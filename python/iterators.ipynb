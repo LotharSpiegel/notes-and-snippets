{
 "cells": [
  {
   "cell_type": "markdown",
   "metadata": {},
   "source": [
    "# Iterators\n",
    "\n",
    "## Contents ##\n",
    "1. [Intro: Iterables vs. Iterators](#intro)\n",
    "2. [A sequential object is an iterable ](#sequence)\n",
    "3. [An iterable and an iterator](#iterable)\n",
    "4. [A generator](#generator)\n",
    "5. [Further reading](#further_reading)\n"
   ]
  },
  {
   "cell_type": "markdown",
   "metadata": {},
   "source": [
    "<a href=\"#intro\"></a>\n",
    "## Intro: iterables vs. iterators ##\n",
    "\n",
    "An iterator is a container object implementing the iterator protocol which is based on two methods:\n",
    "\n",
    "- `__next__`    returns the next item of the container\n",
    "\n",
    "- `__iter__`:    returns the iterator itself\n",
    "\n",
    "Note: we call an object that implements the `__iter__` method an *iterable*.\n",
    "An object which also implements `__next__` is called an *iterator*.\n",
    "I will explain the meaning of these two words below, but first some examples:\n",
    "\n",
    "Using the built-in function `iter` we can make an iterator out of a sequence (something which implements the sequence protocol, i.e., implements `__getitem__`)."
   ]
  },
  {
   "cell_type": "code",
   "execution_count": 1,
   "metadata": {},
   "outputs": [
    {
     "name": "stdout",
     "output_type": "stream",
     "text": [
      "apple\n",
      "banana\n"
     ]
    },
    {
     "ename": "StopIteration",
     "evalue": "",
     "output_type": "error",
     "traceback": [
      "\u001b[1;31m---------------------------------------------------------------------------\u001b[0m",
      "\u001b[1;31mStopIteration\u001b[0m                             Traceback (most recent call last)",
      "\u001b[1;32m<ipython-input-1-638074b73a8e>\u001b[0m in \u001b[0;36m<module>\u001b[1;34m\u001b[0m\n\u001b[0;32m      2\u001b[0m \u001b[0mprint\u001b[0m\u001b[1;33m(\u001b[0m\u001b[0mnext\u001b[0m\u001b[1;33m(\u001b[0m\u001b[0mit\u001b[0m\u001b[1;33m)\u001b[0m\u001b[1;33m)\u001b[0m\u001b[1;33m\u001b[0m\u001b[0m\n\u001b[0;32m      3\u001b[0m \u001b[0mprint\u001b[0m\u001b[1;33m(\u001b[0m\u001b[0mnext\u001b[0m\u001b[1;33m(\u001b[0m\u001b[0mit\u001b[0m\u001b[1;33m)\u001b[0m\u001b[1;33m)\u001b[0m\u001b[1;33m\u001b[0m\u001b[0m\n\u001b[1;32m----> 4\u001b[1;33m \u001b[0mprint\u001b[0m\u001b[1;33m(\u001b[0m\u001b[0mnext\u001b[0m\u001b[1;33m(\u001b[0m\u001b[0mit\u001b[0m\u001b[1;33m)\u001b[0m\u001b[1;33m)\u001b[0m\u001b[1;33m\u001b[0m\u001b[0m\n\u001b[0m",
      "\u001b[1;31mStopIteration\u001b[0m: "
     ]
    }
   ],
   "source": [
    "it = iter(('apple', 'banana'))\n",
    "print(next(it))\n",
    "print(next(it))\n",
    "print(next(it))"
   ]
  },
  {
   "cell_type": "markdown",
   "metadata": {},
   "source": [
    "When the iteration reached the end of the sequence, a StopIteration exception is raised. A for loop catches this exception, so we can use iterators in for loops:"
   ]
  },
  {
   "cell_type": "code",
   "execution_count": 2,
   "metadata": {},
   "outputs": [
    {
     "name": "stdout",
     "output_type": "stream",
     "text": [
      "apple\n",
      "banana\n"
     ]
    }
   ],
   "source": [
    "it = iter(('apple', 'banana'))\n",
    "for fruit in it:\n",
    "    print(fruit)"
   ]
  },
  {
   "cell_type": "markdown",
   "metadata": {},
   "source": [
    "Of course, in python we are used to write the last code snippet as:"
   ]
  },
  {
   "cell_type": "code",
   "execution_count": 3,
   "metadata": {},
   "outputs": [
    {
     "name": "stdout",
     "output_type": "stream",
     "text": [
      "apple\n",
      "banana\n"
     ]
    }
   ],
   "source": [
    "for fruit in ('apple', 'banana'):\n",
    "    print(fruit)"
   ]
  },
  {
   "cell_type": "markdown",
   "metadata": {},
   "source": [
    "What actually happens when we put something in a for loop?\n",
    "First Python checks if this something is an iterable (note: iterators are iterables, but not the other way round).\n",
    "If its only an iterable, it builds an iterator 'it' out of the iterable and executes every step of the for loop by calling next(it).\n",
    "When it reaches the end, next(it) raises a StopIteration exception and the iterator object is released.\n",
    "\n"
   ]
  },
  {
   "cell_type": "markdown",
   "metadata": {},
   "source": [
    "<a href=\"#sequence\"></a>\n",
    "## A sequential object is an iterable ##\n",
    "\n",
    "Enough theory, let's create a simple iterable (a sequence object implementing the '__getitem__' protocol: A sentence can be seen as a sequence of words:"
   ]
  },
  {
   "cell_type": "code",
   "execution_count": 19,
   "metadata": {},
   "outputs": [
    {
     "name": "stdout",
     "output_type": "stream",
     "text": [
      "Sentence(I'm not crazy, my reality is just different than yours.)\n",
      "I\n",
      "m\n",
      "not\n",
      "crazy\n",
      "my\n",
      "reality\n",
      "is\n",
      "just\n",
      "different\n",
      "than\n",
      "yours\n"
     ]
    }
   ],
   "source": [
    "import re\n",
    "RE_WORD = re.compile('\\w+')\n",
    "\n",
    "class Sentence:\n",
    "    def __init__(self, text):\n",
    "        self.text = text\n",
    "        self.words = RE_WORD.findall(text)\n",
    "\n",
    "    def __getitem__(self, index):\n",
    "        return self.words[index]\n",
    "\n",
    "    def __len__(self):\n",
    "        return len(self.words)\n",
    "    \n",
    "    def __repr__(self):\n",
    "        return 'Sentence(%s)' % self.text\n",
    "\n",
    "\n",
    "quote = Sentence(\"I'm not crazy, my reality is just different than yours.\")\n",
    "print(quote)\n",
    "\n",
    "for word in quote:\n",
    "    print(word)"
   ]
  },
  {
   "cell_type": "markdown",
   "metadata": {},
   "source": [
    "Cool. We wrote a class with 4 functions, all of them underscore functions :-)\n",
    "\n",
    "A very important and fundamental thing to know: python operates via protocols. We work here inside the so called Python data model: https://docs.python.org/3/reference/datamodel.html (<-- most important doc page for python ;))\n",
    "\n",
    "The principle is this: whenever we encounter a top-level function (or syntax) as initializing an object or asking for a basic representation of an object, there is a corresponding underscore function to implement that.\n",
    "Calling print(quote) invokes `Sentence.__repr__` . If we hadnt provided this function, Python would print out sth. like: `<__main__.Sentence object at 0x03605F90>` (under the curtains, python implements a default `__repr__`, just not as pretty as ours)\n"
   ]
  },
  {
   "cell_type": "markdown",
   "metadata": {},
   "source": [
    "<a href=\"#iterable\"></a>\n",
    "## An iterable and an iterator ##\n",
    "\n",
    "Back to iterables: the most important function above of course is `__getitem__` : if the interpreter encounters an iteration (our for loop above), it checks first, if the object implements the function `__iter__` (a 'real' iterable). If not, it checks for the second best: `__getitem__` which our Sentence class above implements. It then builds an iterator by fetching the items in order (starting by 0). If all this fails, we get a TypeError.\n",
    "\n",
    "Let's write a 'genuine' iterable: a object implementing `__iter__`. And also an iterator: an object implement `__iter__` and `__next__`:"
   ]
  },
  {
   "cell_type": "code",
   "execution_count": 2,
   "metadata": {},
   "outputs": [
    {
     "name": "stdout",
     "output_type": "stream",
     "text": [
      "I\n",
      "m\n",
      "not\n",
      "crazy\n",
      "my\n",
      "reality\n",
      "is\n",
      "just\n",
      "different\n",
      "than\n",
      "yours\n"
     ]
    }
   ],
   "source": [
    "import re\n",
    "RE_WORD = re.compile('\\w+')\n",
    "\n",
    "class Sentence:\n",
    "    def __init__(self, text):\n",
    "        self.text = text\n",
    "        self.words = RE_WORD.findall(text)\n",
    "\n",
    "    def __iter__(self):\n",
    "        return SentenceIterator(self.words)\n",
    "\n",
    "class SentenceIterator:\n",
    "    def __init__(self, words):\n",
    "        self.words = words\n",
    "        self.index = 0\n",
    "\n",
    "    def __next__(self):\n",
    "        try:\n",
    "            word = self.words[self.index]\n",
    "        except IndexError:\n",
    "            raise StopIteration()\n",
    "        self.index += 1\n",
    "        return word\n",
    "\n",
    "    def __iter__(self):\n",
    "        return self\n",
    "    \n",
    "quote = Sentence(\"I'm not crazy, my reality is just different than yours.\")\n",
    "\n",
    "for word in quote:\n",
    "    print(word)"
   ]
  },
  {
   "cell_type": "markdown",
   "metadata": {},
   "source": [
    "So the Sentence class implements the iterable protocol: it has an `__iter__` function which instantiates a `SentenceIterator` (handing over a reference to the words) and returns the iterator.\n",
    "\n",
    "`SentenceIterator` implements the iterator protocol: it has a `__next__` function returning the next element in the sequence. (it also needs an `__iter__` function).\n"
   ]
  },
  {
   "cell_type": "markdown",
   "metadata": {},
   "source": [
    "<a href=\"#generator\"></a>\n",
    "## A generator ##\n",
    "\n",
    "We can achieve the same without writing our Iterator class, by using a generator function instead: "
   ]
  },
  {
   "cell_type": "code",
   "execution_count": 7,
   "metadata": {},
   "outputs": [
    {
     "name": "stdout",
     "output_type": "stream",
     "text": [
      "I\n",
      "m\n",
      "not\n",
      "crazy\n",
      "my\n",
      "reality\n",
      "is\n",
      "just\n",
      "different\n",
      "than\n",
      "yours\n"
     ]
    }
   ],
   "source": [
    "import re\n",
    "RE_WORD = re.compile('\\w+')\n",
    "\n",
    "class Sentence:\n",
    "    def __init__(self, text):\n",
    "        self.text = text\n",
    "        self.words = RE_WORD.findall(text)\n",
    "\n",
    "    def __iter__(self):\n",
    "        for word in self.words:\n",
    "            yield word\n",
    "            \n",
    "quote = Sentence(\"I'm not crazy, my reality is just different than yours.\")\n",
    "\n",
    "for word in quote:\n",
    "    print(word)"
   ]
  },
  {
   "cell_type": "markdown",
   "metadata": {},
   "source": [
    "... or even simpler:"
   ]
  },
  {
   "cell_type": "code",
   "execution_count": 8,
   "metadata": {},
   "outputs": [],
   "source": [
    "def __iter__(self):\n",
    "        return iter(self.words)"
   ]
  },
  {
   "cell_type": "markdown",
   "metadata": {},
   "source": [
    "<a href=\"#further_reading\"></a>\n",
    "## Further reading ##\n",
    "\n",
    "- See also: [Generators](generators.ipynb)"
   ]
  },
  {
   "cell_type": "code",
   "execution_count": null,
   "metadata": {},
   "outputs": [],
   "source": []
  }
 ],
 "metadata": {
  "kernelspec": {
   "display_name": "Python 3",
   "language": "python",
   "name": "python3"
  },
  "language_info": {
   "codemirror_mode": {
    "name": "ipython",
    "version": 3
   },
   "file_extension": ".py",
   "mimetype": "text/x-python",
   "name": "python",
   "nbconvert_exporter": "python",
   "pygments_lexer": "ipython3",
   "version": "3.6.5"
  }
 },
 "nbformat": 4,
 "nbformat_minor": 2
}
